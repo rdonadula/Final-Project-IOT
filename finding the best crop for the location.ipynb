{
 "cells": [
  {
   "cell_type": "markdown",
   "id": "641269a4",
   "metadata": {},
   "source": [
    "# Finding the best crop in the district to get the max profit "
   ]
  },
  {
   "cell_type": "markdown",
   "id": "358789c0",
   "metadata": {},
   "source": [
    "### load the data "
   ]
  },
  {
   "cell_type": "code",
   "execution_count": 1,
   "id": "4a67df2f",
   "metadata": {},
   "outputs": [
    {
     "data": {
      "text/html": [
       "<div>\n",
       "<style scoped>\n",
       "    .dataframe tbody tr th:only-of-type {\n",
       "        vertical-align: middle;\n",
       "    }\n",
       "\n",
       "    .dataframe tbody tr th {\n",
       "        vertical-align: top;\n",
       "    }\n",
       "\n",
       "    .dataframe thead th {\n",
       "        text-align: right;\n",
       "    }\n",
       "</style>\n",
       "<table border=\"1\" class=\"dataframe\">\n",
       "  <thead>\n",
       "    <tr style=\"text-align: right;\">\n",
       "      <th></th>\n",
       "      <th>state</th>\n",
       "      <th>district</th>\n",
       "      <th>market</th>\n",
       "      <th>commodity</th>\n",
       "      <th>variety</th>\n",
       "      <th>arrival_date</th>\n",
       "      <th>min_price</th>\n",
       "      <th>max_price</th>\n",
       "      <th>modal_price</th>\n",
       "    </tr>\n",
       "  </thead>\n",
       "  <tbody>\n",
       "    <tr>\n",
       "      <th>0</th>\n",
       "      <td>Andaman and Nicobar</td>\n",
       "      <td>South Andaman</td>\n",
       "      <td>Port Blair</td>\n",
       "      <td>Amaranthus</td>\n",
       "      <td>Amaranthus</td>\n",
       "      <td>04/03/2019</td>\n",
       "      <td>6000</td>\n",
       "      <td>8000</td>\n",
       "      <td>7000</td>\n",
       "    </tr>\n",
       "    <tr>\n",
       "      <th>1</th>\n",
       "      <td>Andaman and Nicobar</td>\n",
       "      <td>South Andaman</td>\n",
       "      <td>Port Blair</td>\n",
       "      <td>Banana - Green</td>\n",
       "      <td>Banana - Green</td>\n",
       "      <td>04/03/2019</td>\n",
       "      <td>4500</td>\n",
       "      <td>5500</td>\n",
       "      <td>5000</td>\n",
       "    </tr>\n",
       "    <tr>\n",
       "      <th>2</th>\n",
       "      <td>Andaman and Nicobar</td>\n",
       "      <td>South Andaman</td>\n",
       "      <td>Port Blair</td>\n",
       "      <td>Bhindi(Ladies Finger)</td>\n",
       "      <td>Bhindi</td>\n",
       "      <td>04/03/2019</td>\n",
       "      <td>6000</td>\n",
       "      <td>8000</td>\n",
       "      <td>7000</td>\n",
       "    </tr>\n",
       "    <tr>\n",
       "      <th>3</th>\n",
       "      <td>Andaman and Nicobar</td>\n",
       "      <td>South Andaman</td>\n",
       "      <td>Port Blair</td>\n",
       "      <td>Bitter gourd</td>\n",
       "      <td>Other</td>\n",
       "      <td>04/03/2019</td>\n",
       "      <td>6000</td>\n",
       "      <td>8000</td>\n",
       "      <td>7000</td>\n",
       "    </tr>\n",
       "    <tr>\n",
       "      <th>4</th>\n",
       "      <td>Andaman and Nicobar</td>\n",
       "      <td>South Andaman</td>\n",
       "      <td>Port Blair</td>\n",
       "      <td>Black pepper</td>\n",
       "      <td>Other</td>\n",
       "      <td>04/03/2019</td>\n",
       "      <td>110000</td>\n",
       "      <td>130000</td>\n",
       "      <td>120000</td>\n",
       "    </tr>\n",
       "  </tbody>\n",
       "</table>\n",
       "</div>"
      ],
      "text/plain": [
       "                 state       district      market              commodity  \\\n",
       "0  Andaman and Nicobar  South Andaman  Port Blair             Amaranthus   \n",
       "1  Andaman and Nicobar  South Andaman  Port Blair         Banana - Green   \n",
       "2  Andaman and Nicobar  South Andaman  Port Blair  Bhindi(Ladies Finger)   \n",
       "3  Andaman and Nicobar  South Andaman  Port Blair           Bitter gourd   \n",
       "4  Andaman and Nicobar  South Andaman  Port Blair           Black pepper   \n",
       "\n",
       "          variety arrival_date  min_price  max_price  modal_price  \n",
       "0      Amaranthus   04/03/2019       6000       8000         7000  \n",
       "1  Banana - Green   04/03/2019       4500       5500         5000  \n",
       "2          Bhindi   04/03/2019       6000       8000         7000  \n",
       "3           Other   04/03/2019       6000       8000         7000  \n",
       "4           Other   04/03/2019     110000     130000       120000  "
      ]
     },
     "execution_count": 1,
     "metadata": {},
     "output_type": "execute_result"
    }
   ],
   "source": [
    "import pandas as pd\n",
    "import random\n",
    "from sklearn.tree import DecisionTreeRegressor\n",
    "from sklearn.model_selection import train_test_split\n",
    "from sklearn.metrics import mean_squared_error\n",
    "\n",
    "# load dataset\n",
    "df = pd.read_csv('csv')\n",
    "\n",
    "# getting the uniques districts in a list \n",
    "district_unique = df['district'].unique()\n",
    "\n",
    "df.head()"
   ]
  },
  {
   "cell_type": "markdown",
   "id": "7c89f03a",
   "metadata": {},
   "source": [
    "it is the actual data which has the details of the different crops and the price of it "
   ]
  },
  {
   "cell_type": "markdown",
   "id": "4f1b5755",
   "metadata": {},
   "source": [
    "### Recreating the dataset so that it is used to find the ideal crop in the district"
   ]
  },
  {
   "cell_type": "code",
   "execution_count": 2,
   "id": "f422720e",
   "metadata": {},
   "outputs": [],
   "source": [
    "# Extract relevant features and target variable\n",
    "X = df[['state', 'district', 'market', 'commodity', 'variety', 'arrival_date', 'min_price', 'max_price']]\n",
    "y = df['modal_price']\n",
    "\n",
    "# Split the data set into training and testing sets\n",
    "X_train, X_test, y_train, y_test = train_test_split(X, y, test_size=0.2, random_state=42)\n",
    "\n",
    "# Convert categorical variables to one-hot encoding\n",
    "X_train = pd.get_dummies(X_train, columns=['state', 'district', 'market', 'commodity', 'variety'])\n",
    "X_test = pd.get_dummies(X_test, columns=['state', 'district', 'market', 'commodity', 'variety'])\n",
    "\n",
    "# Convert date strings to numerical format\n",
    "X_train['arrival_date'] = pd.to_datetime(X_train['arrival_date']).astype(int) / 10**9\n",
    "X_test['arrival_date'] = pd.to_datetime(X_test['arrival_date']).astype(int) / 10**9\n",
    "\n",
    "# Get common columns between X_train and X_test\n",
    "common_cols = X_train.columns.intersection(X_test.columns)\n",
    "\n",
    "# Select only common columns for X_train and X_test\n",
    "X_train = X_train[common_cols]\n",
    "X_test = X_test[common_cols]"
   ]
  },
  {
   "cell_type": "markdown",
   "id": "0bee546c",
   "metadata": {},
   "source": [
    "# Tree regression model"
   ]
  },
  {
   "cell_type": "code",
   "execution_count": 3,
   "id": "ba54c212",
   "metadata": {},
   "outputs": [
    {
     "name": "stdout",
     "output_type": "stream",
     "text": [
      "Mean squared error: 18429250.20089286\n"
     ]
    }
   ],
   "source": [
    "# Create a decision tree regression model\n",
    "model = DecisionTreeRegressor()\n",
    "\n",
    "# Train the model using the training set\n",
    "model.fit(X_train, y_train)\n",
    "\n",
    "# Evaluate the model using the testing set\n",
    "y_pred = model.predict(X_test)\n",
    "mse = mean_squared_error(y_test, y_pred)\n",
    "print('Mean squared error:', mse)"
   ]
  },
  {
   "cell_type": "markdown",
   "id": "2790402d",
   "metadata": {},
   "source": [
    "# getting the best crop in a district "
   ]
  },
  {
   "cell_type": "code",
   "execution_count": 5,
   "id": "2a1f0d6a",
   "metadata": {},
   "outputs": [
    {
     "name": "stdout",
     "output_type": "stream",
     "text": [
      "Highest modal price commodity in Chittor : Tomato\n"
     ]
    }
   ],
   "source": [
    "# Predict the highest modal_price commodity in a district\n",
    "district = 'Chittor'\n",
    "highest_modal_price_commodity = X[df['district'] == district]['commodity'][y[df['district'] == district].idxmax()]\n",
    "print('Highest modal price commodity in', district, ':', highest_modal_price_commodity)"
   ]
  },
  {
   "cell_type": "markdown",
   "id": "8af8e8b7",
   "metadata": {},
   "source": [
    "## Getting the highest sold crop in 5 random districts "
   ]
  },
  {
   "cell_type": "code",
   "execution_count": 159,
   "id": "d4259aff",
   "metadata": {},
   "outputs": [
    {
     "name": "stdout",
     "output_type": "stream",
     "text": [
      "Highest modal price commodity in Kheda : Sweet Potato\n",
      "Highest modal price commodity in Erode : Sesamum(Sesame,Gingelly,Til)\n",
      "Highest modal price commodity in South District : Onion\n",
      "Highest modal price commodity in South District : Onion\n",
      "Highest modal price commodity in Kottayam : Ginger(Green)\n"
     ]
    }
   ],
   "source": [
    "for i in range(5):\n",
    "    random_values = random.randint(0, len(district_list))\n",
    "    district = district_list[random_values]\n",
    "    highest_modal_price_commodity = X[df['district'] == district]['commodity'][y[df['district'] == district].idxmax()]\n",
    "    print('Highest modal price commodity in', district, ':', highest_modal_price_commodity)\n"
   ]
  },
  {
   "cell_type": "markdown",
   "id": "db26ebac",
   "metadata": {},
   "source": [
    "### ploting the top 6 highest districts with high price"
   ]
  },
  {
   "cell_type": "code",
   "execution_count": 160,
   "id": "488c80c2",
   "metadata": {},
   "outputs": [
    {
     "data": {
      "image/png": "[encoded data removed]",
      "text/plain": [
       "<Figure size 640x480 with 1 Axes>"
      ]
     },
     "metadata": {},
     "output_type": "display_data"
    }
   ],
   "source": [
    "# Group the data by district and find the highest modal_price commodity for each district\n",
    "grouped = df.groupby('district').apply(lambda x: x.loc[x['modal_price'].idxmax()])\n",
    "\n",
    "# Sort the districts by highest modal_price commodity\n",
    "grouped = grouped.sort_values(by=['modal_price'], ascending=False)\n",
    "\n",
    "# Limit the graph to show only the top 10 districts\n",
    "top_n = 6\n",
    "grouped = grouped.head(top_n)\n",
    "\n",
    "# Create a bar chart with district and highest modal_price commodity name\n",
    "plt.bar(grouped['district'], grouped['modal_price'])\n",
    "plt.xlabel('District')\n",
    "plt.ylabel('Highest Modal Price')\n",
    "plt.title(f'Top {top_n} Highest Modal Price Commodity by District')\n",
    "plt.xticks(rotation=90)\n",
    "\n",
    "# Add highest modal_price commodity name to each bar\n",
    "for i, row in grouped.iterrows():\n",
    "    plt.text(i, row['modal_price'], row['commodity'], ha='center')\n",
    "\n",
    "plt.show()"
   ]
  }
 ],
 "metadata": {
  "kernelspec": {
   "display_name": "Python 3 (ipykernel)",
   "language": "python",
   "name": "python3"
  },
  "language_info": {
   "codemirror_mode": {
    "name": "ipython",
    "version": 3
   },
   "file_extension": ".py",
   "mimetype": "text/x-python",
   "name": "python",
   "nbconvert_exporter": "python",
   "pygments_lexer": "ipython3",
   "version": "3.9.13"
  }
 },
 "nbformat": 4,
 "nbformat_minor": 5
}
